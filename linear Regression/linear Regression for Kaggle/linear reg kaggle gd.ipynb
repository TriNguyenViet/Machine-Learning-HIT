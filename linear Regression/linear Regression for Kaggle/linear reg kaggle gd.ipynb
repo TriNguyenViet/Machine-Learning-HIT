{
 "cells": [
  {
   "cell_type": "code",
   "execution_count": 1,
   "metadata": {},
   "outputs": [],
   "source": [
    "import numpy as np\n",
    "import pandas as pd\n",
    "import matplotlib.pyplot as plt"
   ]
  },
  {
   "cell_type": "code",
   "execution_count": 2,
   "metadata": {},
   "outputs": [
    {
     "data": {
      "text/html": [
       "<div>\n",
       "<style scoped>\n",
       "    .dataframe tbody tr th:only-of-type {\n",
       "        vertical-align: middle;\n",
       "    }\n",
       "\n",
       "    .dataframe tbody tr th {\n",
       "        vertical-align: top;\n",
       "    }\n",
       "\n",
       "    .dataframe thead th {\n",
       "        text-align: right;\n",
       "    }\n",
       "</style>\n",
       "<table border=\"1\" class=\"dataframe\">\n",
       "  <thead>\n",
       "    <tr style=\"text-align: right;\">\n",
       "      <th></th>\n",
       "      <th>x</th>\n",
       "      <th>y</th>\n",
       "    </tr>\n",
       "  </thead>\n",
       "  <tbody>\n",
       "    <tr>\n",
       "      <th>0</th>\n",
       "      <td>24.0</td>\n",
       "      <td>21.549452</td>\n",
       "    </tr>\n",
       "    <tr>\n",
       "      <th>1</th>\n",
       "      <td>50.0</td>\n",
       "      <td>47.464463</td>\n",
       "    </tr>\n",
       "    <tr>\n",
       "      <th>2</th>\n",
       "      <td>15.0</td>\n",
       "      <td>17.218656</td>\n",
       "    </tr>\n",
       "    <tr>\n",
       "      <th>3</th>\n",
       "      <td>38.0</td>\n",
       "      <td>36.586398</td>\n",
       "    </tr>\n",
       "    <tr>\n",
       "      <th>4</th>\n",
       "      <td>87.0</td>\n",
       "      <td>87.288984</td>\n",
       "    </tr>\n",
       "    <tr>\n",
       "      <th>5</th>\n",
       "      <td>36.0</td>\n",
       "      <td>32.463875</td>\n",
       "    </tr>\n",
       "    <tr>\n",
       "      <th>6</th>\n",
       "      <td>12.0</td>\n",
       "      <td>10.780897</td>\n",
       "    </tr>\n",
       "    <tr>\n",
       "      <th>7</th>\n",
       "      <td>81.0</td>\n",
       "      <td>80.763399</td>\n",
       "    </tr>\n",
       "    <tr>\n",
       "      <th>8</th>\n",
       "      <td>25.0</td>\n",
       "      <td>24.612151</td>\n",
       "    </tr>\n",
       "    <tr>\n",
       "      <th>9</th>\n",
       "      <td>5.0</td>\n",
       "      <td>6.963319</td>\n",
       "    </tr>\n",
       "  </tbody>\n",
       "</table>\n",
       "</div>"
      ],
      "text/plain": [
       "      x          y\n",
       "0  24.0  21.549452\n",
       "1  50.0  47.464463\n",
       "2  15.0  17.218656\n",
       "3  38.0  36.586398\n",
       "4  87.0  87.288984\n",
       "5  36.0  32.463875\n",
       "6  12.0  10.780897\n",
       "7  81.0  80.763399\n",
       "8  25.0  24.612151\n",
       "9   5.0   6.963319"
      ]
     },
     "execution_count": 2,
     "metadata": {},
     "output_type": "execute_result"
    }
   ],
   "source": [
    "df = pd.read_csv('train.csv')\n",
    "df.head(10)"
   ]
  },
  {
   "cell_type": "code",
   "execution_count": 3,
   "metadata": {},
   "outputs": [
    {
     "name": "stdout",
     "output_type": "stream",
     "text": [
      "(699, 2)\n"
     ]
    }
   ],
   "source": [
    "# xóa những trường bị NAN data\n",
    "df = df.dropna()\n",
    "print(df.shape)"
   ]
  },
  {
   "cell_type": "code",
   "execution_count": 4,
   "metadata": {},
   "outputs": [
    {
     "name": "stdout",
     "output_type": "stream",
     "text": [
      "(699, 1) (699, 1)\n"
     ]
    }
   ],
   "source": [
    "df = df.values\n",
    "X = df[:,:1]\n",
    "Y = df[:,1:]\n",
    "print(X.shape,Y.shape)"
   ]
  },
  {
   "cell_type": "code",
   "execution_count": 5,
   "metadata": {},
   "outputs": [
    {
     "data": {
      "image/png": "[encoded data removed]",
      "text/plain": [
       "<Figure size 432x288 with 1 Axes>"
      ]
     },
     "metadata": {},
     "output_type": "display_data"
    }
   ],
   "source": [
    "plt.scatter(X,Y,s=8)\n",
    "plt.xlabel('training_set_X')\n",
    "plt.ylabel('training_set_Y')\n",
    "plt.show()"
   ]
  },
  {
   "cell_type": "code",
   "execution_count": 6,
   "metadata": {},
   "outputs": [
    {
     "data": {
      "text/plain": [
       "(699, 2)"
      ]
     },
     "execution_count": 6,
     "metadata": {},
     "output_type": "execute_result"
    }
   ],
   "source": [
    "ones = np.ones_like(Y)\n",
    "X = np.concatenate((X,ones),axis=1)\n",
    "X.shape"
   ]
  },
  {
   "cell_type": "code",
   "execution_count": 7,
   "metadata": {},
   "outputs": [
    {
     "data": {
      "text/plain": [
       "array([[1.49817508],\n",
       "       [0.12739107]])"
      ]
     },
     "execution_count": 7,
     "metadata": {},
     "output_type": "execute_result"
    }
   ],
   "source": [
    "theta = np.random.normal(size=2).reshape([2,1])\n",
    "theta"
   ]
  },
  {
   "cell_type": "code",
   "execution_count": 8,
   "metadata": {},
   "outputs": [],
   "source": [
    "def predict(X,Theta):\n",
    "    return X.dot(Theta)"
   ]
  },
  {
   "cell_type": "code",
   "execution_count": 9,
   "metadata": {},
   "outputs": [],
   "source": [
    "def loss(X,Y,Theta,m):\n",
    "    \"\"\"\n",
    "    X: X's value\n",
    "    Y: Y's value\n",
    "    theta_gd: theta's value\n",
    "    m: number of samples\n",
    "    \"\"\"\n",
    "    return ( 1/(2*m) ) * np.sum((Y-X.dot(Theta))**2)"
   ]
  },
  {
   "cell_type": "code",
   "execution_count": 10,
   "metadata": {},
   "outputs": [],
   "source": [
    "def grad(X,Y,theta,m):\n",
    "    \"\"\"\n",
    "    X: X's value\n",
    "    Y: Y's value\n",
    "    theta_gd: theta's value\n",
    "    m: number of samples\n",
    "    \"\"\" \n",
    "    g = 1/m * X.T.dot(X.dot(theta) - Y)\n",
    "    return g.reshape(theta.shape)"
   ]
  },
  {
   "cell_type": "code",
   "execution_count": 11,
   "metadata": {},
   "outputs": [],
   "source": [
    "def liner_grad(X,Y,theta,learning_rate,m):\n",
    "    loss_list=[]\n",
    "    for i in range(0,1000):\n",
    "        grad_value = grad(X,Y,theta,m)\n",
    "        theta = theta -learning_rate*grad_value\n",
    "        loss_list.append(loss(X,Y,theta,m))\n",
    "    return theta,loss_list"
   ]
  },
  {
   "cell_type": "code",
   "execution_count": 12,
   "metadata": {},
   "outputs": [
    {
     "name": "stdout",
     "output_type": "stream",
     "text": [
      "699\n"
     ]
    },
    {
     "data": {
      "text/plain": [
       "array([[0.9973375 ],\n",
       "       [0.11426245]])"
      ]
     },
     "execution_count": 12,
     "metadata": {},
     "output_type": "execute_result"
    }
   ],
   "source": [
    "m = len(Y)\n",
    "print(m)\n",
    "learning_rate = 0.0001\n",
    "loss_list = []\n",
    "theta,loss_list = liner_grad(X,Y,theta,learning_rate,m)\n",
    "theta"
   ]
  },
  {
   "cell_type": "code",
   "execution_count": 13,
   "metadata": {},
   "outputs": [
    {
     "data": {
      "image/png": "[encoded data removed]",
      "text/plain": [
       "<Figure size 432x288 with 1 Axes>"
      ]
     },
     "metadata": {},
     "output_type": "display_data"
    }
   ],
   "source": [
    "plt.title('loss Function', size = 30)\n",
    "plt.xlabel('num of iterator', size = 20)\n",
    "plt.ylabel('loss', size = 20)\n",
    "plt.plot(loss_list)\n",
    "plt.show()"
   ]
  },
  {
   "cell_type": "code",
   "execution_count": 14,
   "metadata": {},
   "outputs": [
    {
     "data": {
      "image/png": "[encoded data removed]",
      "text/plain": [
       "<Figure size 432x288 with 1 Axes>"
      ]
     },
     "metadata": {},
     "output_type": "display_data"
    }
   ],
   "source": [
    "linex = [i for i in range(0,105)]\n",
    "liney = [i*theta[0,0]+ theta[1,0] for i in range(0,105)]\n",
    "plt.scatter(df[:,:1],df[:,1:],s=8,c='r')\n",
    "plt.scatter(linex,liney)\n",
    "plt.xlabel('training_set_X')\n",
    "plt.ylabel('training_set_Y')\n",
    "plt.show()"
   ]
  },
  {
   "cell_type": "markdown",
   "metadata": {},
   "source": [
    "# TEST"
   ]
  },
  {
   "cell_type": "code",
   "execution_count": 20,
   "metadata": {},
   "outputs": [],
   "source": [
    "data_test = pd.read_csv('test.csv')\n",
    "data_test = data_test.dropna()\n",
    "data_test = data_test.values\n",
    "X_test = data_test[:,:1]\n",
    "Y_test = data_test[:,1:]"
   ]
  },
  {
   "cell_type": "code",
   "execution_count": 21,
   "metadata": {},
   "outputs": [
    {
     "name": "stdout",
     "output_type": "stream",
     "text": [
      "x test: [77.], thuc te : [79.77515201], du doan : [76.9092503]\n",
      "x test: [21.], thuc te : [23.17727887], du doan : [21.05835005]\n",
      "x test: [22.], thuc te : [25.60926156], du doan : [22.05568755]\n",
      "x test: [20.], thuc te : [17.85738813], du doan : [20.06101254]\n",
      "x test: [36.], thuc te : [41.84986439], du doan : [36.01841262]\n",
      "x test: [15.], thuc te : [9.80523488], du doan : [15.07432502]\n",
      "x test: [62.], thuc te : [58.87465933], du doan : [61.94918774]\n",
      "x test: [95.], thuc te : [97.61793701], du doan : [94.86132539]\n",
      "x test: [20.], thuc te : [18.39512747], du doan : [20.06101254]\n",
      "x test: [5.], thuc te : [8.74674765], du doan : [5.10094998]\n",
      "x test: [4.], thuc te : [2.81141583], du doan : [4.10361247]\n",
      "x test: [19.], thuc te : [17.09537241], du doan : [19.06367504]\n",
      "x test: [96.], thuc te : [95.14907176], du doan : [95.85866289]\n",
      "x test: [62.], thuc te : [61.38800663], du doan : [61.94918774]\n",
      "x test: [36.], thuc te : [40.24701716], du doan : [36.01841262]\n",
      "x test: [15.], thuc te : [14.82248589], du doan : [15.07432502]\n",
      "x test: [65.], thuc te : [66.95806869], du doan : [64.94120025]\n",
      "x test: [14.], thuc te : [16.63507984], du doan : [14.07698752]\n",
      "x test: [87.], thuc te : [90.65513736], du doan : [86.88262535]\n",
      "x test: [69.], thuc te : [77.22982636], du doan : [68.93055027]\n",
      "x test: [89.], thuc te : [92.11906278], du doan : [88.87730036]\n",
      "x test: [51.], thuc te : [46.91387709], du doan : [50.97847519]\n",
      "x test: [89.], thuc te : [89.82634442], du doan : [88.87730036]\n",
      "x test: [27.], thuc te : [21.71380347], du doan : [27.04237508]\n",
      "x test: [97.], thuc te : [97.41206981], du doan : [96.85600039]\n",
      "x test: [58.], thuc te : [57.01631363], du doan : [57.95983772]\n",
      "x test: [79.], thuc te : [78.31056542], du doan : [78.90392531]\n",
      "x test: [21.], thuc te : [19.1315097], du doan : [21.05835005]\n",
      "x test: [93.], thuc te : [93.03483388], du doan : [92.86665038]\n",
      "x test: [27.], thuc te : [26.59112396], du doan : [27.04237508]\n",
      "x test: [99.], thuc te : [97.55155344], du doan : [98.8506754]\n",
      "x test: [31.], thuc te : [31.43524822], du doan : [31.03172509]\n",
      "x test: [33.], thuc te : [35.12724777], du doan : [33.0264001]\n",
      "x test: [80.], thuc te : [78.61042432], du doan : [79.90126282]\n",
      "x test: [28.], thuc te : [33.07112825], du doan : [28.03971258]\n",
      "x test: [47.], thuc te : [51.69967172], du doan : [46.98912517]\n",
      "x test: [53.], thuc te : [53.62235225], du doan : [52.97315019]\n",
      "x test: [69.], thuc te : [69.46306072], du doan : [68.93055027]\n",
      "x test: [28.], thuc te : [27.42497237], du doan : [28.03971258]\n",
      "x test: [33.], thuc te : [36.34644189], du doan : [33.0264001]\n",
      "x test: [91.], thuc te : [95.06140858], du doan : [90.87197537]\n",
      "x test: [71.], thuc te : [68.16724757], du doan : [70.92522528]\n",
      "x test: [50.], thuc te : [50.96155532], du doan : [49.98113768]\n",
      "x test: [76.], thuc te : [78.04237454], du doan : [75.9119128]\n",
      "x test: [4.], thuc te : [5.60766487], du doan : [4.10361247]\n",
      "x test: [37.], thuc te : [36.11334779], du doan : [37.01575012]\n",
      "x test: [70.], thuc te : [67.2352155], du doan : [69.92788777]\n",
      "x test: [68.], thuc te : [65.01324035], du doan : [67.93321276]\n",
      "x test: [40.], thuc te : [38.14753871], du doan : [40.00776264]\n",
      "x test: [35.], thuc te : [34.31141446], du doan : [35.02107511]\n",
      "x test: [94.], thuc te : [95.28503937], du doan : [93.86398788]\n",
      "x test: [88.], thuc te : [87.84749912], du doan : [87.87996285]\n",
      "x test: [52.], thuc te : [54.08170635], du doan : [51.97581269]\n",
      "x test: [31.], thuc te : [31.93063515], du doan : [31.03172509]\n",
      "x test: [59.], thuc te : [59.61247085], du doan : [58.95717522]\n",
      "x test: [0.], thuc te : [-1.04011421], du doan : [0.11426245]\n",
      "x test: [39.], thuc te : [47.49374765], du doan : [39.01042513]\n",
      "x test: [64.], thuc te : [62.60089773], du doan : [63.94386274]\n",
      "x test: [69.], thuc te : [70.9146434], du doan : [68.93055027]\n",
      "x test: [57.], thuc te : [56.14834113], du doan : [56.96250021]\n",
      "x test: [13.], thuc te : [14.05572877], du doan : [13.07965001]\n",
      "x test: [72.], thuc te : [68.11367147], du doan : [71.92256278]\n",
      "x test: [76.], thuc te : [75.59701346], du doan : [75.9119128]\n",
      "x test: [61.], thuc te : [59.225745], du doan : [60.95185023]\n",
      "x test: [82.], thuc te : [85.45504157], du doan : [81.89593783]\n",
      "x test: [18.], thuc te : [17.76197116], du doan : [18.06633753]\n",
      "x test: [41.], thuc te : [38.68888682], du doan : [41.00510014]\n",
      "x test: [50.], thuc te : [50.96343637], du doan : [49.98113768]\n",
      "x test: [55.], thuc te : [51.83503872], du doan : [54.9678252]\n",
      "x test: [13.], thuc te : [17.0761107], du doan : [13.07965001]\n",
      "x test: [46.], thuc te : [46.56141773], du doan : [45.99178766]\n",
      "x test: [13.], thuc te : [10.34754461], du doan : [13.07965001]\n",
      "x test: [79.], thuc te : [77.91032969], du doan : [78.90392531]\n",
      "x test: [53.], thuc te : [50.17008622], du doan : [52.97315019]\n",
      "x test: [15.], thuc te : [13.25690647], du doan : [15.07432502]\n",
      "x test: [28.], thuc te : [31.32274932], du doan : [28.03971258]\n",
      "x test: [81.], thuc te : [73.9308764], du doan : [80.89860032]\n",
      "x test: [69.], thuc te : [74.45114379], du doan : [68.93055027]\n",
      "x test: [52.], thuc te : [52.01932286], du doan : [51.97581269]\n",
      "x test: [84.], thuc te : [83.68820499], du doan : [83.89061284]\n",
      "x test: [68.], thuc te : [70.3698748], du doan : [67.93321276]\n",
      "x test: [27.], thuc te : [23.44479161], du doan : [27.04237508]\n",
      "x test: [56.], thuc te : [49.83051801], du doan : [55.96516271]\n",
      "x test: [48.], thuc te : [49.88226593], du doan : [47.98646267]\n",
      "x test: [40.], thuc te : [41.04525583], du doan : [40.00776264]\n",
      "x test: [39.], thuc te : [33.37834391], du doan : [39.01042513]\n",
      "x test: [82.], thuc te : [81.29750133], du doan : [81.89593783]\n",
      "x test: [100.], thuc te : [105.5918375], du doan : [99.84801291]\n",
      "x test: [59.], thuc te : [56.82457013], du doan : [58.95717522]\n",
      "x test: [43.], thuc te : [48.67252645], du doan : [42.99977515]\n",
      "x test: [67.], thuc te : [67.02150613], du doan : [66.93587526]\n",
      "x test: [38.], thuc te : [38.43076389], du doan : [38.01308763]\n",
      "x test: [63.], thuc te : [58.61466887], du doan : [62.94652524]\n",
      "x test: [91.], thuc te : [89.12377509], du doan : [90.87197537]\n",
      "x test: [60.], thuc te : [60.9105427], du doan : [59.95451273]\n",
      "x test: [14.], thuc te : [13.83959878], du doan : [14.07698752]\n",
      "x test: [21.], thuc te : [16.89085185], du doan : [21.05835005]\n",
      "x test: [87.], thuc te : [84.06676818], du doan : [86.88262535]\n",
      "x test: [73.], thuc te : [70.34969772], du doan : [72.91990029]\n",
      "x test: [32.], thuc te : [33.38474138], du doan : [32.0290626]\n",
      "x test: [2.], thuc te : [-1.63296825], du doan : [2.10893746]\n",
      "x test: [82.], thuc te : [88.54475895], du doan : [81.89593783]\n",
      "x test: [19.], thuc te : [17.44047622], du doan : [19.06367504]\n",
      "x test: [74.], thuc te : [75.69298554], du doan : [73.91723779]\n",
      "x test: [42.], thuc te : [41.97607107], du doan : [42.00243764]\n",
      "x test: [12.], thuc te : [12.59244741], du doan : [12.08231251]\n",
      "x test: [1.], thuc te : [0.27530726], du doan : [1.11159996]\n",
      "x test: [90.], thuc te : [98.13258005], du doan : [89.87463786]\n",
      "x test: [89.], thuc te : [87.45721555], du doan : [88.87730036]\n",
      "x test: [0.], thuc te : [-2.34473854], du doan : [0.11426245]\n",
      "x test: [41.], thuc te : [39.3294153], du doan : [41.00510014]\n",
      "x test: [16.], thuc te : [16.68715211], du doan : [16.07166253]\n",
      "x test: [94.], thuc te : [96.58888601], du doan : [93.86398788]\n",
      "x test: [97.], thuc te : [97.70342201], du doan : [96.85600039]\n",
      "x test: [66.], thuc te : [67.01715955], du doan : [65.93853775]\n",
      "x test: [24.], thuc te : [25.63476257], du doan : [24.05036256]\n",
      "x test: [17.], thuc te : [13.41310757], du doan : [17.06900003]\n",
      "x test: [90.], thuc te : [95.15647284], du doan : [89.87463786]\n",
      "x test: [13.], thuc te : [9.74416426], du doan : [13.07965001]\n",
      "x test: [0.], thuc te : [-3.46788379], du doan : [0.11426245]\n",
      "x test: [64.], thuc te : [62.82816355], du doan : [63.94386274]\n",
      "x test: [96.], thuc te : [97.27405461], du doan : [95.85866289]\n",
      "x test: [98.], thuc te : [95.58017185], du doan : [97.8533379]\n",
      "x test: [12.], thuc te : [7.46850184], du doan : [12.08231251]\n",
      "x test: [41.], thuc te : [45.44599591], du doan : [41.00510014]\n",
      "x test: [47.], thuc te : [46.69013968], du doan : [46.98912517]\n",
      "x test: [78.], thuc te : [74.4993599], du doan : [77.90658781]\n",
      "x test: [20.], thuc te : [21.63500655], du doan : [20.06101254]\n",
      "x test: [89.], thuc te : [91.59548851], du doan : [88.87730036]\n",
      "x test: [29.], thuc te : [26.49487961], du doan : [29.03705008]\n",
      "x test: [64.], thuc te : [67.38654703], du doan : [63.94386274]\n",
      "x test: [75.], thuc te : [74.25362837], du doan : [74.91457529]\n",
      "x test: [12.], thuc te : [12.07991648], du doan : [12.08231251]\n",
      "x test: [25.], thuc te : [21.32273728], du doan : [25.04770007]\n",
      "x test: [28.], thuc te : [29.31770045], du doan : [28.03971258]\n",
      "x test: [30.], thuc te : [26.48713683], du doan : [30.03438759]\n",
      "x test: [65.], thuc te : [68.94699774], du doan : [64.94120025]\n",
      "x test: [59.], thuc te : [59.10598995], du doan : [58.95717522]\n",
      "x test: [64.], thuc te : [64.37521087], du doan : [63.94386274]\n",
      "x test: [53.], thuc te : [60.20758349], du doan : [52.97315019]\n",
      "x test: [71.], thuc te : [70.34329706], du doan : [70.92522528]\n",
      "x test: [97.], thuc te : [97.1082562], du doan : [96.85600039]\n",
      "x test: [73.], thuc te : [75.7584178], du doan : [72.91990029]\n",
      "x test: [9.], thuc te : [10.80462727], du doan : [9.09029999]\n",
      "x test: [12.], thuc te : [12.11219941], du doan : [12.08231251]\n",
      "x test: [63.], thuc te : [63.28312382], du doan : [62.94652524]\n",
      "x test: [99.], thuc te : [98.03017721], du doan : [98.8506754]\n",
      "x test: [60.], thuc te : [63.19354354], du doan : [59.95451273]\n",
      "x test: [35.], thuc te : [34.8534823], du doan : [35.02107511]\n",
      "x test: [2.], thuc te : [-2.81991397], du doan : [2.10893746]\n",
      "x test: [60.], thuc te : [59.8313966], du doan : [59.95451273]\n",
      "x test: [32.], thuc te : [29.38505024], du doan : [32.0290626]\n",
      "x test: [94.], thuc te : [97.00148372], du doan : [93.86398788]\n",
      "x test: [84.], thuc te : [85.18657275], du doan : [83.89061284]\n",
      "x test: [63.], thuc te : [61.74063192], du doan : [62.94652524]\n",
      "x test: [22.], thuc te : [18.84798163], du doan : [22.05568755]\n",
      "x test: [81.], thuc te : [78.79008525], du doan : [80.89860032]\n",
      "x test: [93.], thuc te : [95.12400481], du doan : [92.86665038]\n",
      "x test: [33.], thuc te : [30.48881287], du doan : [33.0264001]\n",
      "x test: [7.], thuc te : [10.41468095], du doan : [7.09562498]\n",
      "x test: [42.], thuc te : [38.98317436], du doan : [42.00243764]\n",
      "x test: [46.], thuc te : [46.11021062], du doan : [45.99178766]\n",
      "x test: [54.], thuc te : [52.45103628], du doan : [53.9704877]\n",
      "x test: [16.], thuc te : [21.16523945], du doan : [16.07166253]\n",
      "x test: [49.], thuc te : [52.28620611], du doan : [48.98380018]\n",
      "x test: [43.], thuc te : [44.18863945], du doan : [42.99977515]\n",
      "x test: [95.], thuc te : [97.13832018], du doan : [94.86132539]\n",
      "x test: [66.], thuc te : [67.22008001], du doan : [65.93853775]\n",
      "x test: [21.], thuc te : [18.98322306], du doan : [21.05835005]\n",
      "x test: [35.], thuc te : [24.3884599], du doan : [35.02107511]\n",
      "x test: [80.], thuc te : [79.44769523], du doan : [79.90126282]\n",
      "x test: [37.], thuc te : [40.03504862], du doan : [37.01575012]\n",
      "x test: [54.], thuc te : [53.32005764], du doan : [53.9704877]\n",
      "x test: [56.], thuc te : [54.55446979], du doan : [55.96516271]\n",
      "x test: [1.], thuc te : [-2.7611826], du doan : [1.11159996]\n",
      "x test: [32.], thuc te : [37.80182795], du doan : [32.0290626]\n",
      "x test: [58.], thuc te : [57.48741435], du doan : [57.95983772]\n",
      "x test: [32.], thuc te : [36.06292994], du doan : [32.0290626]\n",
      "x test: [46.], thuc te : [49.83538167], du doan : [45.99178766]\n",
      "x test: [72.], thuc te : [74.68953276], du doan : [71.92256278]\n",
      "x test: [17.], thuc te : [14.86159401], du doan : [17.06900003]\n",
      "x test: [97.], thuc te : [101.0697879], du doan : [96.85600039]\n",
      "x test: [93.], thuc te : [99.43577876], du doan : [92.86665038]\n",
      "x test: [91.], thuc te : [91.69240746], du doan : [90.87197537]\n",
      "x test: [37.], thuc te : [34.12473248], du doan : [37.01575012]\n",
      "x test: [4.], thuc te : [6.07939007], du doan : [4.10361247]\n",
      "x test: [54.], thuc te : [59.07247174], du doan : [53.9704877]\n",
      "x test: [51.], thuc te : [56.43046022], du doan : [50.97847519]\n",
      "x test: [27.], thuc te : [30.49412933], du doan : [27.04237508]\n",
      "x test: [46.], thuc te : [48.35172635], du doan : [45.99178766]\n",
      "x test: [92.], thuc te : [89.73153611], du doan : [91.86931287]\n",
      "x test: [73.], thuc te : [72.86282528], du doan : [72.91990029]\n",
      "x test: [77.], thuc te : [80.97144285], du doan : [76.9092503]\n",
      "x test: [91.], thuc te : [91.36566374], du doan : [90.87197537]\n",
      "x test: [61.], thuc te : [60.07137496], du doan : [60.95185023]\n",
      "x test: [99.], thuc te : [99.87382707], du doan : [98.8506754]\n",
      "x test: [4.], thuc te : [8.65571417], du doan : [4.10361247]\n",
      "x test: [72.], thuc te : [69.39858505], du doan : [71.92256278]\n",
      "x test: [19.], thuc te : [19.38780134], du doan : [19.06367504]\n",
      "x test: [57.], thuc te : [53.11628433], du doan : [56.96250021]\n",
      "x test: [78.], thuc te : [78.39683006], du doan : [77.90658781]\n",
      "x test: [26.], thuc te : [25.75612514], du doan : [26.04503757]\n",
      "x test: [74.], thuc te : [75.07484683], du doan : [73.91723779]\n",
      "x test: [90.], thuc te : [92.88772282], du doan : [89.87463786]\n",
      "x test: [66.], thuc te : [69.45498498], du doan : [65.93853775]\n",
      "x test: [13.], thuc te : [13.12109842], du doan : [13.07965001]\n",
      "x test: [40.], thuc te : [48.09843134], du doan : [40.00776264]\n",
      "x test: [77.], thuc te : [79.3142548], du doan : [76.9092503]\n",
      "x test: [67.], thuc te : [68.48820749], du doan : [66.93587526]\n",
      "x test: [75.], thuc te : [73.2300846], du doan : [74.91457529]\n",
      "x test: [23.], thuc te : [24.68362712], du doan : [23.05302506]\n",
      "x test: [45.], thuc te : [41.90368917], du doan : [44.99445016]\n",
      "x test: [59.], thuc te : [62.22635684], du doan : [58.95717522]\n",
      "x test: [44.], thuc te : [45.96396877], du doan : [43.99711265]\n",
      "x test: [23.], thuc te : [23.52647153], du doan : [23.05302506]\n",
      "x test: [55.], thuc te : [51.80035866], du doan : [54.9678252]\n",
      "x test: [55.], thuc te : [51.10774273], du doan : [54.9678252]\n",
      "x test: [95.], thuc te : [95.79747345], du doan : [94.86132539]\n",
      "x test: [12.], thuc te : [9.24113898], du doan : [12.08231251]\n",
      "x test: [4.], thuc te : [7.64652976], du doan : [4.10361247]\n",
      "x test: [7.], thuc te : [9.28169975], du doan : [7.09562498]\n",
      "x test: [100.], thuc te : [103.5266162], du doan : [99.84801291]\n",
      "x test: [48.], thuc te : [47.41006725], du doan : [47.98646267]\n",
      "x test: [42.], thuc te : [42.03835773], du doan : [42.00243764]\n",
      "x test: [96.], thuc te : [96.11982476], du doan : [95.85866289]\n",
      "x test: [39.], thuc te : [38.05766408], du doan : [39.01042513]\n",
      "x test: [100.], thuc te : [105.4503788], du doan : [99.84801291]\n",
      "x test: [87.], thuc te : [88.80306911], du doan : [86.88262535]\n",
      "x test: [14.], thuc te : [15.49301141], du doan : [14.07698752]\n",
      "x test: [14.], thuc te : [12.42624606], du doan : [14.07698752]\n",
      "x test: [37.], thuc te : [40.00709598], du doan : [37.01575012]\n",
      "x test: [5.], thuc te : [5.6340309], du doan : [5.10094998]\n",
      "x test: [88.], thuc te : [87.36938931], du doan : [87.87996285]\n",
      "x test: [91.], thuc te : [89.73951993], du doan : [90.87197537]\n",
      "x test: [65.], thuc te : [66.61499643], du doan : [64.94120025]\n",
      "x test: [74.], thuc te : [72.9138853], du doan : [73.91723779]\n",
      "x test: [56.], thuc te : [57.19103506], du doan : [55.96516271]\n",
      "x test: [16.], thuc te : [11.21710477], du doan : [16.07166253]\n",
      "x test: [5.], thuc te : [0.67607675], du doan : [5.10094998]\n",
      "x test: [28.], thuc te : [28.15668543], du doan : [28.03971258]\n",
      "x test: [92.], thuc te : [95.3958003], du doan : [91.86931287]\n",
      "x test: [46.], thuc te : [52.05490703], du doan : [45.99178766]\n",
      "x test: [54.], thuc te : [59.70864577], du doan : [53.9704877]\n",
      "x test: [39.], thuc te : [36.79224762], du doan : [39.01042513]\n",
      "x test: [44.], thuc te : [37.08457698], du doan : [43.99711265]\n",
      "x test: [31.], thuc te : [24.18437976], du doan : [31.03172509]\n",
      "x test: [68.], thuc te : [67.28725332], du doan : [67.93321276]\n",
      "x test: [86.], thuc te : [82.870594], du doan : [85.88528784]\n",
      "x test: [90.], thuc te : [89.899991], du doan : [89.87463786]\n",
      "x test: [38.], thuc te : [36.94173178], du doan : [38.01308763]\n",
      "x test: [21.], thuc te : [19.87562242], du doan : [21.05835005]\n",
      "x test: [95.], thuc te : [90.71481654], du doan : [94.86132539]\n",
      "x test: [56.], thuc te : [61.09367762], du doan : [55.96516271]\n",
      "x test: [60.], thuc te : [60.11134958], du doan : [59.95451273]\n",
      "x test: [65.], thuc te : [64.83296316], du doan : [64.94120025]\n",
      "x test: [78.], thuc te : [81.40381769], du doan : [77.90658781]\n",
      "x test: [89.], thuc te : [92.40217686], du doan : [88.87730036]\n",
      "x test: [6.], thuc te : [2.57662538], du doan : [6.09828748]\n",
      "x test: [67.], thuc te : [63.80768172], du doan : [66.93587526]\n",
      "x test: [36.], thuc te : [38.67780759], du doan : [36.01841262]\n",
      "x test: [16.], thuc te : [16.82839701], du doan : [16.07166253]\n",
      "x test: [100.], thuc te : [99.78687252], du doan : [99.84801291]\n",
      "x test: [45.], thuc te : [44.68913433], du doan : [44.99445016]\n",
      "x test: [73.], thuc te : [71.00377824], du doan : [72.91990029]\n",
      "x test: [57.], thuc te : [51.57326718], du doan : [56.96250021]\n",
      "x test: [20.], thuc te : [19.87846479], du doan : [20.06101254]\n",
      "x test: [76.], thuc te : [79.50341495], du doan : [75.9119128]\n",
      "x test: [34.], thuc te : [34.58876491], du doan : [34.02373761]\n",
      "x test: [55.], thuc te : [55.7383467], du doan : [54.9678252]\n",
      "x test: [72.], thuc te : [68.19721905], du doan : [71.92256278]\n",
      "x test: [55.], thuc te : [55.81628509], du doan : [54.9678252]\n",
      "x test: [8.], thuc te : [9.3914168], du doan : [8.09296249]\n",
      "x test: [56.], thuc te : [56.01448111], du doan : [55.96516271]\n",
      "x test: [72.], thuc te : [77.9969477], du doan : [71.92256278]\n",
      "x test: [58.], thuc te : [55.37049953], du doan : [57.95983772]\n",
      "x test: [6.], thuc te : [11.89457829], du doan : [6.09828748]\n",
      "x test: [96.], thuc te : [94.79081712], du doan : [95.85866289]\n",
      "x test: [23.], thuc te : [25.69041546], du doan : [23.05302506]\n",
      "x test: [58.], thuc te : [53.52042319], du doan : [57.95983772]\n",
      "x test: [23.], thuc te : [18.31396758], du doan : [23.05302506]\n",
      "x test: [19.], thuc te : [21.42637785], du doan : [19.06367504]\n",
      "x test: [25.], thuc te : [30.41303282], du doan : [25.04770007]\n",
      "x test: [64.], thuc te : [67.68142149], du doan : [63.94386274]\n",
      "x test: [21.], thuc te : [17.0854783], du doan : [21.05835005]\n",
      "x test: [59.], thuc te : [60.91792707], du doan : [58.95717522]\n",
      "x test: [19.], thuc te : [14.99514319], du doan : [19.06367504]\n",
      "x test: [16.], thuc te : [16.74923937], du doan : [16.07166253]\n",
      "x test: [42.], thuc te : [41.46923883], du doan : [42.00243764]\n",
      "x test: [43.], thuc te : [42.84526108], du doan : [42.99977515]\n",
      "x test: [61.], thuc te : [59.12912974], du doan : [60.95185023]\n",
      "x test: [92.], thuc te : [91.30863673], du doan : [91.86931287]\n",
      "x test: [11.], thuc te : [8.67333636], du doan : [11.084975]\n",
      "x test: [41.], thuc te : [39.31485292], du doan : [41.00510014]\n",
      "x test: [1.], thuc te : [5.3136862], du doan : [1.11159996]\n",
      "x test: [8.], thuc te : [5.40522052], du doan : [8.09296249]\n",
      "x test: [71.], thuc te : [68.5458879], du doan : [70.92522528]\n",
      "x test: [46.], thuc te : [47.33487629], du doan : [45.99178766]\n",
      "x test: [55.], thuc te : [54.09063686], du doan : [54.9678252]\n",
      "x test: [62.], thuc te : [63.29717058], du doan : [61.94918774]\n",
      "x test: [47.], thuc te : [52.45946688], du doan : [46.98912517]\n"
     ]
    }
   ],
   "source": [
    "for a,b in zip(X_test[:],Y_test[:]):\n",
    "    print('x test: {0}, thuc te : {1}, du doan : {2}'.format(a,b,a*theta[0,0]+theta[1,0]))"
   ]
  },
  {
   "cell_type": "code",
   "execution_count": null,
   "metadata": {},
   "outputs": [],
   "source": []
  }
 ],
 "metadata": {
  "kernelspec": {
   "display_name": "Python 3",
   "language": "python",
   "name": "python3"
  },
  "language_info": {
   "codemirror_mode": {
    "name": "ipython",
    "version": 3
   },
   "file_extension": ".py",
   "mimetype": "text/x-python",
   "name": "python",
   "nbconvert_exporter": "python",
   "pygments_lexer": "ipython3",
   "version": "3.6.5"
  }
 },
 "nbformat": 4,
 "nbformat_minor": 2
}
