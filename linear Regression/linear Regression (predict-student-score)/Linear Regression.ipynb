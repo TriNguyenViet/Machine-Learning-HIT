{
 "cells": [
  {
   "cell_type": "code",
   "execution_count": 1,
   "metadata": {},
   "outputs": [],
   "source": [
    "import numpy as np\n",
    "import pandas as pd\n",
    "import matplotlib.pyplot as plt"
   ]
  },
  {
   "cell_type": "code",
   "execution_count": 2,
   "metadata": {},
   "outputs": [
    {
     "data": {
      "text/plain": [
       "array([[ 73,  80,  75, 152],\n",
       "       [ 93,  88,  93, 185],\n",
       "       [ 89,  91,  90, 180],\n",
       "       [ 96,  98, 100, 196],\n",
       "       [ 73,  66,  70, 142],\n",
       "       [ 53,  46,  55, 101],\n",
       "       [ 69,  74,  77, 149],\n",
       "       [ 47,  56,  60, 115],\n",
       "       [ 87,  79,  90, 175],\n",
       "       [ 79,  70,  88, 164],\n",
       "       [ 69,  70,  73, 141],\n",
       "       [ 70,  65,  74, 141],\n",
       "       [ 93,  95,  91, 184],\n",
       "       [ 79,  80,  73, 152],\n",
       "       [ 70,  73,  78, 148],\n",
       "       [ 93,  89,  96, 192],\n",
       "       [ 78,  75,  68, 147],\n",
       "       [ 81,  90,  93, 183],\n",
       "       [ 88,  92,  86, 177],\n",
       "       [ 78,  83,  77, 159],\n",
       "       [ 82,  86,  90, 177],\n",
       "       [ 86,  82,  89, 175],\n",
       "       [ 78,  83,  85, 175]], dtype=int64)"
      ]
     },
     "execution_count": 2,
     "metadata": {},
     "output_type": "execute_result"
    }
   ],
   "source": [
    "df = pd.read_csv('data_train.csv').values\n",
    "df"
   ]
  },
  {
   "cell_type": "code",
   "execution_count": 3,
   "metadata": {},
   "outputs": [
    {
     "name": "stdout",
     "output_type": "stream",
     "text": [
      "[[ 73  80  75]\n",
      " [ 93  88  93]\n",
      " [ 89  91  90]\n",
      " [ 96  98 100]\n",
      " [ 73  66  70]\n",
      " [ 53  46  55]\n",
      " [ 69  74  77]\n",
      " [ 47  56  60]\n",
      " [ 87  79  90]\n",
      " [ 79  70  88]\n",
      " [ 69  70  73]\n",
      " [ 70  65  74]\n",
      " [ 93  95  91]\n",
      " [ 79  80  73]\n",
      " [ 70  73  78]\n",
      " [ 93  89  96]\n",
      " [ 78  75  68]\n",
      " [ 81  90  93]\n",
      " [ 88  92  86]\n",
      " [ 78  83  77]\n",
      " [ 82  86  90]\n",
      " [ 86  82  89]\n",
      " [ 78  83  85]] [[152]\n",
      " [185]\n",
      " [180]\n",
      " [196]\n",
      " [142]\n",
      " [101]\n",
      " [149]\n",
      " [115]\n",
      " [175]\n",
      " [164]\n",
      " [141]\n",
      " [141]\n",
      " [184]\n",
      " [152]\n",
      " [148]\n",
      " [192]\n",
      " [147]\n",
      " [183]\n",
      " [177]\n",
      " [159]\n",
      " [177]\n",
      " [175]\n",
      " [175]]\n",
      "(23, 3) (23, 1)\n"
     ]
    }
   ],
   "source": [
    "x1 = df[:,0]\n",
    "x2 = df[:,1]\n",
    "x3 = df[:,2]\n",
    "X_train = df[:,:3]\n",
    "Y_train = df[:,3:]\n",
    "print(X_train,Y_train)\n",
    "print(X_train.shape, Y_train.shape)"
   ]
  },
  {
   "cell_type": "code",
   "execution_count": 5,
   "metadata": {},
   "outputs": [
    {
     "data": {
      "image/png": "[encoded data removed]",
      "text/plain": [
       "<Figure size 432x288 with 1 Axes>"
      ]
     },
     "metadata": {},
     "output_type": "display_data"
    }
   ],
   "source": [
    "%matplotlib inline\n",
    "plt.xlabel('features')\n",
    "plt.ylabel('price')\n",
    "plt.scatter(x1,Y_train,c='b')\n",
    "plt.scatter(x2,Y_train,c='g')\n",
    "plt.scatter(x3,Y_train,c='r')\n",
    "plt.show()"
   ]
  },
  {
   "cell_type": "code",
   "execution_count": 6,
   "metadata": {},
   "outputs": [
    {
     "name": "stdout",
     "output_type": "stream",
     "text": [
      "[[ 73  80  75   1]\n",
      " [ 93  88  93   1]\n",
      " [ 89  91  90   1]\n",
      " [ 96  98 100   1]\n",
      " [ 73  66  70   1]\n",
      " [ 53  46  55   1]\n",
      " [ 69  74  77   1]\n",
      " [ 47  56  60   1]\n",
      " [ 87  79  90   1]\n",
      " [ 79  70  88   1]\n",
      " [ 69  70  73   1]\n",
      " [ 70  65  74   1]\n",
      " [ 93  95  91   1]\n",
      " [ 79  80  73   1]\n",
      " [ 70  73  78   1]\n",
      " [ 93  89  96   1]\n",
      " [ 78  75  68   1]\n",
      " [ 81  90  93   1]\n",
      " [ 88  92  86   1]\n",
      " [ 78  83  77   1]\n",
      " [ 82  86  90   1]\n",
      " [ 86  82  89   1]\n",
      " [ 78  83  85   1]]\n",
      "(23, 4) (23, 1)\n"
     ]
    }
   ],
   "source": [
    "ones = np.ones_like(Y_train)\n",
    "X_train = np.concatenate((X_train, ones), axis=1)\n",
    "print(X_train)\n",
    "print(X_train.shape,Y_train.shape)"
   ]
  },
  {
   "cell_type": "code",
   "execution_count": 7,
   "metadata": {},
   "outputs": [],
   "source": [
    "def grad_cal(X, Y, theta_gd, m):\n",
    "    \"\"\"\n",
    "    X: X's value\n",
    "    Y: Y's value\n",
    "    theta_gd: theta's value\n",
    "    m: number of samples\n",
    "    \"\"\"    \n",
    "    g = 1/m * X.T.dot(X.dot(theta_gd) - Y)\n",
    "    return g.reshape(theta_gd.shape)\n",
    "def loss(X, Y, theta_gd, m):\n",
    "    \"\"\"\n",
    "    X: X's value\n",
    "    Y: Y's value\n",
    "    theta_gd: theta's value\n",
    "    m: number of samples\n",
    "    \"\"\"\n",
    "    return 1/(2*m) * np.sum((X.dot(theta_gd) - Y)**2)"
   ]
  },
  {
   "cell_type": "code",
   "execution_count": 11,
   "metadata": {},
   "outputs": [
    {
     "name": "stdout",
     "output_type": "stream",
     "text": [
      "23\n",
      "[[ 1.25115   ]\n",
      " [-0.05036668]\n",
      " [ 0.84848795]\n",
      " [ 0.61604092]]\n"
     ]
    }
   ],
   "source": [
    "m = len(Y_train)\n",
    "print(m)\n",
    "learning_rate = 0.0001\n",
    "theta_gd = np.random.normal(size=4).reshape([4,1])\n",
    "print(theta_gd)"
   ]
  },
  {
   "cell_type": "code",
   "execution_count": 13,
   "metadata": {},
   "outputs": [
    {
     "name": "stdout",
     "output_type": "stream",
     "text": [
      "[[0.34509274]\n",
      " [0.56725208]\n",
      " [1.09549183]\n",
      " [0.53671618]]\n"
     ]
    }
   ],
   "source": [
    "import math\n",
    "grad_list = []\n",
    "loss_list = []\n",
    "for i in range(10000):\n",
    "    grad_value = grad_cal(X_train, Y_train, theta_gd, m)\n",
    "    theta_gd = theta_gd - learning_rate*grad_value\n",
    "    loss_list.append(loss(X_train, Y_train, theta_gd, m))\n",
    "    grad_list.append(grad_value)\n",
    "print(theta_gd)"
   ]
  },
  {
   "cell_type": "code",
   "execution_count": 14,
   "metadata": {},
   "outputs": [
    {
     "name": "stdout",
     "output_type": "stream",
     "text": [
      "[13.96898733 13.66001787 13.38618067 ...  3.19485292  3.19485227\n",
      "  3.19485162]\n"
     ]
    }
   ],
   "source": [
    "print(np.array(loss_list))"
   ]
  },
  {
   "cell_type": "code",
   "execution_count": 15,
   "metadata": {},
   "outputs": [
    {
     "data": {
      "image/png": "[encoded data removed]",
      "text/plain": [
       "<Figure size 432x288 with 1 Axes>"
      ]
     },
     "metadata": {},
     "output_type": "display_data"
    }
   ],
   "source": [
    "plt.title('loss Function', size = 30)\n",
    "plt.xlabel('num of iterator', size = 20)\n",
    "plt.ylabel('loss', size = 20)\n",
    "plt.plot(loss_list)\n",
    "plt.show()"
   ]
  },
  {
   "cell_type": "code",
   "execution_count": 16,
   "metadata": {},
   "outputs": [
    {
     "data": {
      "text/plain": [
       "array([[152.64646463]])"
      ]
     },
     "execution_count": 16,
     "metadata": {},
     "output_type": "execute_result"
    }
   ],
   "source": [
    "def predict(X):\n",
    "    return X.dot(theta_gd)\n",
    "X_new_1 = np.array([[70, 73, 79,1]])\n",
    "predict(X_new_1)"
   ]
  },
  {
   "cell_type": "code",
   "execution_count": 17,
   "metadata": {},
   "outputs": [
    {
     "name": "stdout",
     "output_type": "stream",
     "text": [
      "Outcome: 152 Predict: 153.27054005925524\n",
      "Outcome: 185 Predict: 184.42926452268662\n",
      "Outcome: 180 Predict: 181.46417428600847\n",
      "Outcome: 196 Predict: 198.80550636032382\n",
      "Outcome: 142 Predict: 139.85155180532976\n",
      "Outcome: 101 Predict: 105.1722779185839\n",
      "Outcome: 149 Predict: 150.67764030001211\n",
      "Outcome: 115 Predict: 114.25170141628817\n",
      "Outcome: 175 Predict: 173.96696387672176\n",
      "Outcome: 164 Predict: 163.9099695828515\n",
      "Outcome: 141 Predict: 144.02666465299046\n",
      "Outcome: 141 Predict: 142.63098884252466\n",
      "Outcome: 184 Predict: 186.20904539432425\n",
      "Outcome: 152 Predict: 153.1501128374882\n",
      "Outcome: 148 Predict: 151.55097279850116\n",
      "Outcome: 192 Predict: 188.28299210347544\n",
      "Outcome: 147 Predict: 144.49130053750008\n",
      "Outcome: 183 Predict: 181.42265578263138\n",
      "Outcome: 177 Predict: 177.30436628396933\n",
      "Outcome: 159 Predict: 158.88874366606007\n",
      "Outcome: 177 Predict: 176.2122647113375\n",
      "Outcome: 175 Predict: 174.22813553271016\n",
      "Outcome: 175 Predict: 167.65267834219364\n",
      "Loss value: 73.48158736817078\n"
     ]
    }
   ],
   "source": [
    "def get_loss_value(input, outcome, w):\n",
    "    cost = 0\n",
    "    y_hat = np.dot(input, w)\n",
    "    for x, y in zip(outcome, y_hat):\n",
    "        print('Outcome:', x[0], 'Predict:', y[0])\n",
    "        cost += pow(x[0] - y[0], 2)\n",
    "    return cost / 2\n",
    "print('Loss value:', get_loss_value(X_train,Y_train,theta_gd))"
   ]
  },
  {
   "cell_type": "markdown",
   "metadata": {},
   "source": []
  }
 ],
 "metadata": {
  "kernelspec": {
   "display_name": "Python 3",
   "language": "python",
   "name": "python3"
  },
  "language_info": {
   "codemirror_mode": {
    "name": "ipython",
    "version": 3
   },
   "file_extension": ".py",
   "mimetype": "text/x-python",
   "name": "python",
   "nbconvert_exporter": "python",
   "pygments_lexer": "ipython3",
   "version": "3.6.5"
  }
 },
 "nbformat": 4,
 "nbformat_minor": 2
}
