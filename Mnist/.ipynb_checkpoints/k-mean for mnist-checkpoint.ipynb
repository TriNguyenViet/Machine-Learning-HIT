{
 "cells": [
  {
   "cell_type": "code",
   "execution_count": 1,
   "metadata": {},
   "outputs": [],
   "source": [
    "import pandas as pd\n",
    "import numpy as np\n",
    "import matplotlib.pyplot as plt\n",
    "import matplotlib.image as mpimg\n",
    "import seaborn as sns\n",
    "%matplotlib inline"
   ]
  },
  {
   "cell_type": "markdown",
   "metadata": {},
   "source": [
    "# load data"
   ]
  },
  {
   "cell_type": "code",
   "execution_count": 2,
   "metadata": {},
   "outputs": [
    {
     "data": {
      "text/html": [
       "<div>\n",
       "<style scoped>\n",
       "    .dataframe tbody tr th:only-of-type {\n",
       "        vertical-align: middle;\n",
       "    }\n",
       "\n",
       "    .dataframe tbody tr th {\n",
       "        vertical-align: top;\n",
       "    }\n",
       "\n",
       "    .dataframe thead th {\n",
       "        text-align: right;\n",
       "    }\n",
       "</style>\n",
       "<table border=\"1\" class=\"dataframe\">\n",
       "  <thead>\n",
       "    <tr style=\"text-align: right;\">\n",
       "      <th></th>\n",
       "      <th>label</th>\n",
       "      <th>pixel0</th>\n",
       "      <th>pixel1</th>\n",
       "      <th>pixel2</th>\n",
       "      <th>pixel3</th>\n",
       "      <th>pixel4</th>\n",
       "      <th>pixel5</th>\n",
       "      <th>pixel6</th>\n",
       "      <th>pixel7</th>\n",
       "      <th>pixel8</th>\n",
       "      <th>...</th>\n",
       "      <th>pixel774</th>\n",
       "      <th>pixel775</th>\n",
       "      <th>pixel776</th>\n",
       "      <th>pixel777</th>\n",
       "      <th>pixel778</th>\n",
       "      <th>pixel779</th>\n",
       "      <th>pixel780</th>\n",
       "      <th>pixel781</th>\n",
       "      <th>pixel782</th>\n",
       "      <th>pixel783</th>\n",
       "    </tr>\n",
       "  </thead>\n",
       "  <tbody>\n",
       "    <tr>\n",
       "      <th>0</th>\n",
       "      <td>1</td>\n",
       "      <td>0</td>\n",
       "      <td>0</td>\n",
       "      <td>0</td>\n",
       "      <td>0</td>\n",
       "      <td>0</td>\n",
       "      <td>0</td>\n",
       "      <td>0</td>\n",
       "      <td>0</td>\n",
       "      <td>0</td>\n",
       "      <td>...</td>\n",
       "      <td>0</td>\n",
       "      <td>0</td>\n",
       "      <td>0</td>\n",
       "      <td>0</td>\n",
       "      <td>0</td>\n",
       "      <td>0</td>\n",
       "      <td>0</td>\n",
       "      <td>0</td>\n",
       "      <td>0</td>\n",
       "      <td>0</td>\n",
       "    </tr>\n",
       "    <tr>\n",
       "      <th>1</th>\n",
       "      <td>0</td>\n",
       "      <td>0</td>\n",
       "      <td>0</td>\n",
       "      <td>0</td>\n",
       "      <td>0</td>\n",
       "      <td>0</td>\n",
       "      <td>0</td>\n",
       "      <td>0</td>\n",
       "      <td>0</td>\n",
       "      <td>0</td>\n",
       "      <td>...</td>\n",
       "      <td>0</td>\n",
       "      <td>0</td>\n",
       "      <td>0</td>\n",
       "      <td>0</td>\n",
       "      <td>0</td>\n",
       "      <td>0</td>\n",
       "      <td>0</td>\n",
       "      <td>0</td>\n",
       "      <td>0</td>\n",
       "      <td>0</td>\n",
       "    </tr>\n",
       "    <tr>\n",
       "      <th>2</th>\n",
       "      <td>1</td>\n",
       "      <td>0</td>\n",
       "      <td>0</td>\n",
       "      <td>0</td>\n",
       "      <td>0</td>\n",
       "      <td>0</td>\n",
       "      <td>0</td>\n",
       "      <td>0</td>\n",
       "      <td>0</td>\n",
       "      <td>0</td>\n",
       "      <td>...</td>\n",
       "      <td>0</td>\n",
       "      <td>0</td>\n",
       "      <td>0</td>\n",
       "      <td>0</td>\n",
       "      <td>0</td>\n",
       "      <td>0</td>\n",
       "      <td>0</td>\n",
       "      <td>0</td>\n",
       "      <td>0</td>\n",
       "      <td>0</td>\n",
       "    </tr>\n",
       "    <tr>\n",
       "      <th>3</th>\n",
       "      <td>4</td>\n",
       "      <td>0</td>\n",
       "      <td>0</td>\n",
       "      <td>0</td>\n",
       "      <td>0</td>\n",
       "      <td>0</td>\n",
       "      <td>0</td>\n",
       "      <td>0</td>\n",
       "      <td>0</td>\n",
       "      <td>0</td>\n",
       "      <td>...</td>\n",
       "      <td>0</td>\n",
       "      <td>0</td>\n",
       "      <td>0</td>\n",
       "      <td>0</td>\n",
       "      <td>0</td>\n",
       "      <td>0</td>\n",
       "      <td>0</td>\n",
       "      <td>0</td>\n",
       "      <td>0</td>\n",
       "      <td>0</td>\n",
       "    </tr>\n",
       "    <tr>\n",
       "      <th>4</th>\n",
       "      <td>0</td>\n",
       "      <td>0</td>\n",
       "      <td>0</td>\n",
       "      <td>0</td>\n",
       "      <td>0</td>\n",
       "      <td>0</td>\n",
       "      <td>0</td>\n",
       "      <td>0</td>\n",
       "      <td>0</td>\n",
       "      <td>0</td>\n",
       "      <td>...</td>\n",
       "      <td>0</td>\n",
       "      <td>0</td>\n",
       "      <td>0</td>\n",
       "      <td>0</td>\n",
       "      <td>0</td>\n",
       "      <td>0</td>\n",
       "      <td>0</td>\n",
       "      <td>0</td>\n",
       "      <td>0</td>\n",
       "      <td>0</td>\n",
       "    </tr>\n",
       "  </tbody>\n",
       "</table>\n",
       "<p>5 rows × 785 columns</p>\n",
       "</div>"
      ],
      "text/plain": [
       "   label  pixel0  pixel1  pixel2  pixel3  pixel4  pixel5  pixel6  pixel7  \\\n",
       "0      1       0       0       0       0       0       0       0       0   \n",
       "1      0       0       0       0       0       0       0       0       0   \n",
       "2      1       0       0       0       0       0       0       0       0   \n",
       "3      4       0       0       0       0       0       0       0       0   \n",
       "4      0       0       0       0       0       0       0       0       0   \n",
       "\n",
       "   pixel8    ...     pixel774  pixel775  pixel776  pixel777  pixel778  \\\n",
       "0       0    ...            0         0         0         0         0   \n",
       "1       0    ...            0         0         0         0         0   \n",
       "2       0    ...            0         0         0         0         0   \n",
       "3       0    ...            0         0         0         0         0   \n",
       "4       0    ...            0         0         0         0         0   \n",
       "\n",
       "   pixel779  pixel780  pixel781  pixel782  pixel783  \n",
       "0         0         0         0         0         0  \n",
       "1         0         0         0         0         0  \n",
       "2         0         0         0         0         0  \n",
       "3         0         0         0         0         0  \n",
       "4         0         0         0         0         0  \n",
       "\n",
       "[5 rows x 785 columns]"
      ]
     },
     "execution_count": 2,
     "metadata": {},
     "output_type": "execute_result"
    }
   ],
   "source": [
    "train = pd.read_csv('train.csv')\n",
    "test  = pd.read_csv('test.csv')\n",
    "train.head()"
   ]
  },
  {
   "cell_type": "code",
   "execution_count": 3,
   "metadata": {},
   "outputs": [
    {
     "data": {
      "text/plain": [
       "1    4684\n",
       "7    4401\n",
       "3    4351\n",
       "9    4188\n",
       "2    4177\n",
       "6    4137\n",
       "0    4132\n",
       "4    4072\n",
       "8    4063\n",
       "5    3795\n",
       "Name: label, dtype: int64"
      ]
     },
     "execution_count": 3,
     "metadata": {},
     "output_type": "execute_result"
    },
    {
     "data": {
      "image/png": "[encoded data removed]",
      "text/plain": [
       "<Figure size 432x288 with 1 Axes>"
      ]
     },
     "metadata": {},
     "output_type": "display_data"
    }
   ],
   "source": [
    "Y_train = train[\"label\"]\n",
    "\n",
    "# Drop 'label' column\n",
    "X_train = train.drop(labels = [\"label\"],axis = 1) \n",
    "\n",
    "# free some space\n",
    "\n",
    "g = sns.countplot(Y_train)\n",
    "listt = Y_train.value_counts()\n",
    "listt"
   ]
  },
  {
   "cell_type": "markdown",
   "metadata": {},
   "source": [
    "# Check for null and missing values"
   ]
  },
  {
   "cell_type": "code",
   "execution_count": 4,
   "metadata": {},
   "outputs": [
    {
     "data": {
      "text/plain": [
       "count       784\n",
       "unique        1\n",
       "top       False\n",
       "freq        784\n",
       "dtype: object"
      ]
     },
     "execution_count": 4,
     "metadata": {},
     "output_type": "execute_result"
    }
   ],
   "source": [
    "# Check the data\n",
    "X_train.isnull().any().describe()"
   ]
  },
  {
   "cell_type": "code",
   "execution_count": 5,
   "metadata": {},
   "outputs": [],
   "source": [
    "# Normalize the data\n",
    "X_train = X_train / 255.0\n",
    "test = test / 255.0"
   ]
  },
  {
   "cell_type": "code",
   "execution_count": 6,
   "metadata": {},
   "outputs": [],
   "source": [
    "train = train.values"
   ]
  },
  {
   "cell_type": "code",
   "execution_count": 7,
   "metadata": {},
   "outputs": [
    {
     "data": {
      "text/plain": [
       "0    1\n",
       "1    0\n",
       "2    1\n",
       "3    4\n",
       "4    0\n",
       "Name: label, dtype: int64"
      ]
     },
     "execution_count": 7,
     "metadata": {},
     "output_type": "execute_result"
    }
   ],
   "source": [
    "Y_train.head()"
   ]
  },
  {
   "cell_type": "code",
   "execution_count": 8,
   "metadata": {},
   "outputs": [
    {
     "data": {
      "image/png": "[encoded data removed]",
      "text/plain": [
       "<Figure size 576x576 with 16 Axes>"
      ]
     },
     "metadata": {},
     "output_type": "display_data"
    }
   ],
   "source": [
    "fig, ax = plt.subplots(4, 4, figsize=(8,8))\n",
    "for i in range(4):\n",
    "    for j in range(4):\n",
    "        ax[i, j].imshow(np.array(X_train.iloc[i*4 + j*4]).reshape(28,28), cmap='gray')\n",
    "        ax[i, j].set_title('label = %s' % (Y_train[i*4 + j*4]))\n",
    "        ax[i, j].set_xticks([])\n",
    "        ax[i, j].set_yticks([])"
   ]
  },
  {
   "cell_type": "code",
   "execution_count": 9,
   "metadata": {},
   "outputs": [
    {
     "name": "stdout",
     "output_type": "stream",
     "text": [
      "(42000, 784) (42000,)\n"
     ]
    }
   ],
   "source": [
    "X_train = X_train.values\n",
    "Y_train = Y_train.values\n",
    "print(X_train.shape,Y_train.shape)"
   ]
  },
  {
   "cell_type": "code",
   "execution_count": 10,
   "metadata": {},
   "outputs": [],
   "source": [
    "Y_train = Y_train.reshape((42000,1))"
   ]
  },
  {
   "cell_type": "code",
   "execution_count": 11,
   "metadata": {},
   "outputs": [],
   "source": [
    "predist =np.zeros((10,784))"
   ]
  },
  {
   "cell_type": "code",
   "execution_count": 14,
   "metadata": {},
   "outputs": [
    {
     "data": {
      "text/plain": [
       "array([0.00000000e+00, 0.00000000e+00, 0.00000000e+00, 0.00000000e+00,\n",
       "       0.00000000e+00, 0.00000000e+00, 0.00000000e+00, 0.00000000e+00,\n",
       "       0.00000000e+00, 0.00000000e+00, 0.00000000e+00, 0.00000000e+00,\n",
       "       0.00000000e+00, 0.00000000e+00, 0.00000000e+00, 0.00000000e+00,\n",
       "       0.00000000e+00, 0.00000000e+00, 0.00000000e+00, 0.00000000e+00,\n",
       "       0.00000000e+00, 0.00000000e+00, 0.00000000e+00, 0.00000000e+00,\n",
       "       0.00000000e+00, 0.00000000e+00, 0.00000000e+00, 0.00000000e+00,\n",
       "       0.00000000e+00, 0.00000000e+00, 0.00000000e+00, 0.00000000e+00,\n",
       "       0.00000000e+00, 0.00000000e+00, 0.00000000e+00, 0.00000000e+00,\n",
       "       0.00000000e+00, 5.17647059e-01, 6.19607843e-01, 0.00000000e+00,\n",
       "       0.00000000e+00, 5.09803922e-02, 7.09803922e-01, 6.82352941e-01,\n",
       "       9.64705882e-01, 4.58823529e-01, 0.00000000e+00, 0.00000000e+00,\n",
       "       0.00000000e+00, 0.00000000e+00, 0.00000000e+00, 0.00000000e+00,\n",
       "       0.00000000e+00, 0.00000000e+00, 0.00000000e+00, 0.00000000e+00,\n",
       "       0.00000000e+00, 0.00000000e+00, 0.00000000e+00, 1.13725490e-01,\n",
       "       3.92156863e-02, 0.00000000e+00, 3.33333333e-01, 7.84313725e-01,\n",
       "       1.72549020e-01, 8.50980392e-01, 1.94117647e+00, 3.13333333e+00,\n",
       "       3.98823529e+00, 4.38431373e+00, 3.20784314e+00, 4.63529412e+00,\n",
       "       3.70588235e+00, 2.10980392e+00, 2.26666667e+00, 2.90980392e+00,\n",
       "       3.58039216e+00, 1.78431373e+00, 1.03529412e+00, 5.29411765e-01,\n",
       "       0.00000000e+00, 0.00000000e+00, 0.00000000e+00, 0.00000000e+00,\n",
       "       0.00000000e+00, 0.00000000e+00, 0.00000000e+00, 3.29411765e-01,\n",
       "       4.86274510e-01, 9.92156863e-01, 1.83921569e+00, 1.84313725e+00,\n",
       "       2.07058824e+00, 7.80392157e+00, 1.60117647e+01, 3.40627451e+01,\n",
       "       4.81764706e+01, 6.30509804e+01, 7.94862745e+01, 9.65647059e+01,\n",
       "       1.03337255e+02, 8.38941176e+01, 6.36549020e+01, 5.36000000e+01,\n",
       "       3.91921569e+01, 1.93921569e+01, 1.01411765e+01, 4.45098039e+00,\n",
       "       1.55686275e+00, 3.60784314e-01, 0.00000000e+00, 0.00000000e+00,\n",
       "       0.00000000e+00, 0.00000000e+00, 0.00000000e+00, 8.47058824e-01,\n",
       "       9.01960784e-01, 1.77647059e+00, 4.71764706e+00, 7.59607843e+00,\n",
       "       2.34196078e+01, 6.94941176e+01, 1.38627451e+02, 2.72745098e+02,\n",
       "       4.76615686e+02, 7.28658824e+02, 9.50764706e+02, 1.11897255e+03,\n",
       "       1.14574510e+03, 1.04765098e+03, 8.47054902e+02, 6.26188235e+02,\n",
       "       3.75266667e+02, 1.81423529e+02, 7.14431373e+01, 1.97647059e+01,\n",
       "       5.20392157e+00, 8.43137255e-01, 0.00000000e+00, 0.00000000e+00,\n",
       "       0.00000000e+00, 0.00000000e+00, 0.00000000e+00, 1.05098039e+00,\n",
       "       6.86274510e-01, 2.61176471e+00, 1.41254902e+01, 3.57294118e+01,\n",
       "       9.32470588e+01, 2.30345098e+02, 4.57031373e+02, 8.12184314e+02,\n",
       "       1.25320000e+03, 1.75694118e+03, 2.19165882e+03, 2.47125490e+03,\n",
       "       2.54000392e+03, 2.34694902e+03, 1.96151765e+03, 1.48128235e+03,\n",
       "       9.74239216e+02, 5.30000000e+02, 2.26207843e+02, 5.96156863e+01,\n",
       "       1.16784314e+01, 3.66666667e+00, 0.00000000e+00, 0.00000000e+00,\n",
       "       0.00000000e+00, 0.00000000e+00, 0.00000000e+00, 3.17647059e-01,\n",
       "       4.08235294e+00, 1.49137255e+01, 3.70156863e+01, 9.97529412e+01,\n",
       "       2.47062745e+02, 5.32337255e+02, 9.56803922e+02, 1.51450196e+03,\n",
       "       2.09258039e+03, 2.60942745e+03, 2.97852941e+03, 3.20355686e+03,\n",
       "       3.25130196e+03, 3.14880784e+03, 2.85196078e+03, 2.31326275e+03,\n",
       "       1.68495686e+03, 1.02958824e+03, 5.01603922e+02, 1.68478431e+02,\n",
       "       2.69411765e+01, 4.67058824e+00, 3.21568627e-01, 2.86274510e-01,\n",
       "       0.00000000e+00, 0.00000000e+00, 0.00000000e+00, 8.70588235e-01,\n",
       "       7.07843137e+00, 2.71176471e+01, 7.01764706e+01, 2.10125490e+02,\n",
       "       5.00529412e+02, 9.48066667e+02, 1.53157647e+03, 2.17689020e+03,\n",
       "       2.67709412e+03, 2.99971373e+03, 3.17930980e+03, 3.20820392e+03,\n",
       "       3.22043137e+03, 3.23164706e+03, 3.14946275e+03, 2.84209412e+03,\n",
       "       2.28264706e+03, 1.58431373e+03, 8.87835294e+02, 3.38960784e+02,\n",
       "       6.38431373e+01, 6.18039216e+00, 4.31372549e-02, 6.03921569e-01,\n",
       "       2.07843137e-01, 0.00000000e+00, 2.07843137e-01, 5.45098039e-01,\n",
       "       9.50196078e+00, 3.83686275e+01, 1.30639216e+02, 4.00250980e+02,\n",
       "       8.40666667e+02, 1.42671373e+03, 2.09944706e+03, 2.64543922e+03,\n",
       "       2.92698824e+03, 2.97445098e+03, 2.84172157e+03, 2.67704314e+03,\n",
       "       2.61752157e+03, 2.68280392e+03, 2.86658824e+03, 2.93529020e+03,\n",
       "       2.68509412e+03, 2.05631765e+03, 1.30084706e+03, 5.70513725e+02,\n",
       "       1.23494118e+02, 7.04705882e+00, 0.00000000e+00, 0.00000000e+00,\n",
       "       0.00000000e+00, 0.00000000e+00, 1.05882353e-01, 5.37254902e-01,\n",
       "       1.07137255e+01, 6.55333333e+01, 2.61843137e+02, 6.75470588e+02,\n",
       "       1.24276078e+03, 1.94419608e+03, 2.54405098e+03, 2.85981569e+03,\n",
       "       2.83049804e+03, 2.57849020e+03, 2.19053333e+03, 1.89320000e+03,\n",
       "       1.73506667e+03, 1.84693333e+03, 2.23248627e+03, 2.66499216e+03,\n",
       "       2.77952549e+03, 2.40970980e+03, 1.69062745e+03, 8.37325490e+02,\n",
       "       2.01090196e+02, 6.15686275e+00, 4.94117647e-01, 4.94117647e-01,\n",
       "       0.00000000e+00, 4.39215686e-01, 1.21568627e+00, 2.03529412e+00,\n",
       "       1.75803922e+01, 1.30282353e+02, 4.52498039e+02, 1.00245098e+03,\n",
       "       1.69563137e+03, 2.37849804e+03, 2.78298431e+03, 2.80663922e+03,\n",
       "       2.45830196e+03, 1.94957647e+03, 1.47490196e+03, 1.12112157e+03,\n",
       "       9.64796078e+02, 1.10878431e+03, 1.59454510e+03, 2.23730588e+03,\n",
       "       2.68343137e+03, 2.59254510e+03, 2.00567843e+03, 1.10758824e+03,\n",
       "       2.99866667e+02, 7.38823529e+00, 2.07843137e-01, 2.07843137e-01,\n",
       "       0.00000000e+00, 9.96078431e-01, 9.92156863e-01, 2.81960784e+00,\n",
       "       2.79176471e+01, 2.33160784e+02, 6.95929412e+02, 1.39570980e+03,\n",
       "       2.15712549e+03, 2.69945490e+03, 2.83954118e+03, 2.51036471e+03,\n",
       "       1.90620000e+03, 1.31946667e+03, 8.64301961e+02, 5.95576471e+02,\n",
       "       5.28713725e+02, 6.97815686e+02, 1.14754510e+03, 1.87392157e+03,\n",
       "       2.50679216e+03, 2.65958431e+03, 2.19886667e+03, 1.32074118e+03,\n",
       "       4.00945098e+02, 1.02705882e+01, 8.50980392e-01, 0.00000000e+00,\n",
       "       0.00000000e+00, 6.74509804e-01, 8.47058824e-01, 2.62352941e+00,\n",
       "       5.07215686e+01, 3.83678431e+02, 1.01470980e+03, 1.81310196e+03,\n",
       "       2.51267451e+03, 2.84009412e+03, 2.66270588e+03, 2.04135294e+03,\n",
       "       1.31591373e+03, 7.83450980e+02, 4.61658824e+02, 3.39682353e+02,\n",
       "       3.42313725e+02, 5.09494118e+02, 9.47615686e+02, 1.66012941e+03,\n",
       "       2.35724314e+03, 2.63562745e+03, 2.28071373e+03, 1.45784706e+03,\n",
       "       4.87976471e+02, 1.48431373e+01, 7.84313725e-01, 0.00000000e+00,\n",
       "       0.00000000e+00, 2.47058824e-01, 6.82352941e-01, 3.12941176e+00,\n",
       "       8.88274510e+01, 5.91494118e+02, 1.37197647e+03, 2.19854118e+03,\n",
       "       2.75294118e+03, 2.80824706e+03, 2.30589804e+03, 1.49962353e+03,\n",
       "       8.26568627e+02, 4.33047059e+02, 2.87278431e+02, 2.49643137e+02,\n",
       "       2.71600000e+02, 4.48411765e+02, 9.12670588e+02, 1.59949020e+03,\n",
       "       2.30763137e+03, 2.60850196e+03, 2.26891765e+03, 1.47646667e+03,\n",
       "       5.27854902e+02, 2.10745098e+01, 1.06666667e+00, 0.00000000e+00,\n",
       "       0.00000000e+00, 0.00000000e+00, 0.00000000e+00, 1.21568627e+00,\n",
       "       1.40431373e+02, 8.32486275e+02, 1.71620392e+03, 2.51533725e+03,\n",
       "       2.85300392e+03, 2.60612157e+03, 1.86297647e+03, 1.03219216e+03,\n",
       "       5.04580392e+02, 2.94592157e+02, 2.38090196e+02, 2.29282353e+02,\n",
       "       2.65317647e+02, 4.94141176e+02, 9.98619608e+02, 1.72028235e+03,\n",
       "       2.37732549e+03, 2.58855686e+03, 2.17841176e+03, 1.40212157e+03,\n",
       "       5.20180392e+02, 2.49960784e+01, 4.66666667e-01, 0.00000000e+00,\n",
       "       0.00000000e+00, 0.00000000e+00, 0.00000000e+00, 2.39607843e+00,\n",
       "       2.15858824e+02, 1.08950196e+03, 2.01554902e+03, 2.70769804e+03,\n",
       "       2.83021569e+03, 2.31481961e+03, 1.45643137e+03, 7.05654902e+02,\n",
       "       3.40407843e+02, 2.36164706e+02, 2.27525490e+02, 2.33588235e+02,\n",
       "       3.26039216e+02, 6.53325490e+02, 1.23529412e+03, 1.97344706e+03,\n",
       "       2.49457647e+03, 2.52519608e+03, 2.01063137e+03, 1.24358824e+03,\n",
       "       4.49713725e+02, 2.09882353e+01, 3.05882353e-01, 2.07843137e-01,\n",
       "       0.00000000e+00, 1.84313725e-01, 0.00000000e+00, 2.44705882e+00,\n",
       "       2.94078431e+02, 1.29163922e+03, 2.22566275e+03, 2.80359608e+03,\n",
       "       2.73574510e+03, 2.02979608e+03, 1.14914902e+03, 5.16745098e+02,\n",
       "       2.69294118e+02, 2.09305882e+02, 2.15933333e+02, 2.86317647e+02,\n",
       "       4.98666667e+02, 9.58607843e+02, 1.63955294e+03, 2.29558039e+03,\n",
       "       2.60374118e+03, 2.37907843e+03, 1.76148627e+03, 9.95650980e+02,\n",
       "       3.31219608e+02, 1.55333333e+01, 9.68627451e-01, 6.03921569e-01,\n",
       "       0.00000000e+00, 0.00000000e+00, 0.00000000e+00, 2.58823529e+00,\n",
       "       3.79917647e+02, 1.41641176e+03, 2.33084706e+03, 2.82414510e+03,\n",
       "       2.65296863e+03, 1.88114902e+03, 1.01765490e+03, 4.78007843e+02,\n",
       "       2.72694118e+02, 2.38294118e+02, 3.10988235e+02, 5.08203922e+02,\n",
       "       9.01294118e+02, 1.51058824e+03, 2.14096471e+03, 2.57382745e+03,\n",
       "       2.58176863e+03, 2.11420784e+03, 1.42756471e+03, 7.17537255e+02,\n",
       "       2.09403922e+02, 1.20784314e+01, 1.35686275e+00, 7.72549020e-01,\n",
       "       0.00000000e+00, 0.00000000e+00, 0.00000000e+00, 4.32156863e+00,\n",
       "       4.15243137e+02, 1.41399608e+03, 2.31481569e+03, 2.81949804e+03,\n",
       "       2.66467843e+03, 1.95204314e+03, 1.16936078e+03, 6.58164706e+02,\n",
       "       4.59815686e+02, 4.80172549e+02, 6.76733333e+02, 1.05780392e+03,\n",
       "       1.57634510e+03, 2.14594510e+03, 2.57680784e+03, 2.66741961e+03,\n",
       "       2.33096471e+03, 1.69281569e+03, 1.02722353e+03, 4.51984314e+02,\n",
       "       1.12807843e+02, 6.84705882e+00, 1.09019608e+00, 1.49019608e-01,\n",
       "       0.00000000e+00, 0.00000000e+00, 1.13725490e-01, 7.27058824e+00,\n",
       "       3.88196078e+02, 1.28221176e+03, 2.17632549e+03, 2.78073333e+03,\n",
       "       2.80976078e+03, 2.35206275e+03, 1.68410196e+03, 1.19071373e+03,\n",
       "       1.01887059e+03, 1.10833725e+03, 1.42083529e+03, 1.86420392e+03,\n",
       "       2.32998431e+03, 2.68570588e+03, 2.75483922e+03, 2.44241569e+03,\n",
       "       1.87542353e+03, 1.22992549e+03, 6.34686275e+02, 2.28933333e+02,\n",
       "       4.38235294e+01, 2.77647059e+00, 2.00000000e-01, 0.00000000e+00,\n",
       "       0.00000000e+00, 0.00000000e+00, 3.33333333e-01, 8.15686275e+00,\n",
       "       2.94443137e+02, 1.01306667e+03, 1.88977255e+03, 2.62491765e+03,\n",
       "       2.98505882e+03, 2.92862745e+03, 2.57353725e+03, 2.19968235e+03,\n",
       "       2.05001176e+03, 2.14101176e+03, 2.39574118e+03, 2.70533333e+03,\n",
       "       2.88192941e+03, 2.85140000e+03, 2.51003529e+03, 1.92843529e+03,\n",
       "       1.31457255e+03, 7.42874510e+02, 3.14007843e+02, 8.99960784e+01,\n",
       "       1.60352941e+01, 1.14117647e+00, 5.64705882e-01, 0.00000000e+00,\n",
       "       0.00000000e+00, 0.00000000e+00, 9.96078431e-01, 8.98039216e+00,\n",
       "       1.75756863e+02, 6.73607843e+02, 1.41534902e+03, 2.21643922e+03,\n",
       "       2.87861176e+03, 3.28004706e+03, 3.35012549e+03, 3.23935686e+03,\n",
       "       3.12756078e+03, 3.10485490e+03, 3.14412549e+03, 3.11321961e+03,\n",
       "       2.88245490e+03, 2.45957647e+03, 1.86956471e+03, 1.24849804e+03,\n",
       "       7.23207843e+02, 3.30215686e+02, 1.13062745e+02, 3.51960784e+01,\n",
       "       8.49019608e+00, 1.61176471e+00, 1.72156863e+00, 1.52941176e-01,\n",
       "       0.00000000e+00, 0.00000000e+00, 9.92156863e-01, 5.28627451e+00,\n",
       "       7.09647059e+01, 3.37290196e+02, 8.45600000e+02, 1.50629804e+03,\n",
       "       2.23094118e+03, 2.86280392e+03, 3.28480000e+03, 3.45475294e+03,\n",
       "       3.43998824e+03, 3.33260000e+03, 3.09857647e+03, 2.68380000e+03,\n",
       "       2.16226667e+03, 1.58051373e+03, 1.02612941e+03, 5.92607843e+02,\n",
       "       2.72972549e+02, 1.04525490e+02, 3.40039216e+01, 1.12078431e+01,\n",
       "       5.07058824e+00, 1.71764706e+00, 6.03921569e-01, 2.82352941e-01,\n",
       "       0.00000000e+00, 0.00000000e+00, 0.00000000e+00, 3.45098039e-01,\n",
       "       1.56941176e+01, 9.01803922e+01, 2.99800000e+02, 6.65392157e+02,\n",
       "       1.16067059e+03, 1.69489020e+03, 2.15251765e+03, 2.45230196e+03,\n",
       "       2.50005490e+03, 2.31049804e+03, 1.95716078e+03, 1.50103529e+03,\n",
       "       1.04400392e+03, 6.51474510e+02, 3.50568627e+02, 1.63600000e+02,\n",
       "       6.81686275e+01, 2.26000000e+01, 7.25882353e+00, 4.07843137e+00,\n",
       "       2.34509804e+00, 6.94117647e-01, 0.00000000e+00, 0.00000000e+00,\n",
       "       0.00000000e+00, 0.00000000e+00, 0.00000000e+00, 6.66666667e-01,\n",
       "       4.14901961e+00, 1.09960784e+01, 3.76980392e+01, 9.90823529e+01,\n",
       "       2.02560784e+02, 3.40313725e+02, 4.85372549e+02, 5.96721569e+02,\n",
       "       6.36486275e+02, 6.10254902e+02, 5.08717647e+02, 3.58227451e+02,\n",
       "       2.31074510e+02, 1.26290196e+02, 5.92509804e+01, 2.81215686e+01,\n",
       "       1.30117647e+01, 4.27058824e+00, 1.98431373e+00, 1.12156863e+00,\n",
       "       5.01960784e-01, 2.74509804e-01, 0.00000000e+00, 0.00000000e+00,\n",
       "       0.00000000e+00, 0.00000000e+00, 0.00000000e+00, 0.00000000e+00,\n",
       "       0.00000000e+00, 9.37254902e-01, 3.04705882e+00, 5.80392157e+00,\n",
       "       1.40509804e+01, 1.86117647e+01, 2.00901961e+01, 2.21490196e+01,\n",
       "       2.40980392e+01, 3.46352941e+01, 3.31058824e+01, 2.39607843e+01,\n",
       "       1.61686275e+01, 9.04313725e+00, 6.63529412e+00, 4.26666667e+00,\n",
       "       2.32941176e+00, 8.62745098e-02, 3.80392157e-01, 0.00000000e+00,\n",
       "       0.00000000e+00, 0.00000000e+00, 0.00000000e+00, 0.00000000e+00,\n",
       "       0.00000000e+00, 0.00000000e+00, 0.00000000e+00, 0.00000000e+00,\n",
       "       0.00000000e+00, 0.00000000e+00, 0.00000000e+00, 8.78431373e-01,\n",
       "       4.34117647e+00, 5.27058824e+00, 3.64705882e+00, 4.02745098e+00,\n",
       "       6.11764706e+00, 9.98039216e+00, 9.87058824e+00, 9.92156863e+00,\n",
       "       6.97254902e+00, 3.67450980e+00, 1.05882353e+00, 9.09803922e-01,\n",
       "       7.29411765e-01, 0.00000000e+00, 0.00000000e+00, 0.00000000e+00,\n",
       "       0.00000000e+00, 0.00000000e+00, 0.00000000e+00, 0.00000000e+00,\n",
       "       0.00000000e+00, 0.00000000e+00, 0.00000000e+00, 0.00000000e+00,\n",
       "       0.00000000e+00, 0.00000000e+00, 0.00000000e+00, 5.09803922e-02,\n",
       "       4.39215686e-01, 0.00000000e+00, 0.00000000e+00, 0.00000000e+00,\n",
       "       0.00000000e+00, 8.15686275e-01, 1.98039216e+00, 1.37647059e+00,\n",
       "       5.56862745e-01, 2.00000000e-01, 0.00000000e+00, 0.00000000e+00,\n",
       "       0.00000000e+00, 0.00000000e+00, 0.00000000e+00, 0.00000000e+00,\n",
       "       0.00000000e+00, 0.00000000e+00, 0.00000000e+00, 0.00000000e+00])"
      ]
     },
     "execution_count": 14,
     "metadata": {},
     "output_type": "execute_result"
    }
   ],
   "source": [
    "for i in range(42000):\n",
    "    predist[Y_train[i,0],:]+=X_train[i,:]\n",
    "predist[0]"
   ]
  },
  {
   "cell_type": "code",
   "execution_count": 15,
   "metadata": {},
   "outputs": [],
   "source": [
    "j=0\n",
    "for i in predist:\n",
    "    predist[:,:]/=listt[j]\n",
    "    j+=1"
   ]
  },
  {
   "cell_type": "code",
   "execution_count": 16,
   "metadata": {},
   "outputs": [
    {
     "data": {
      "image/png": "[encoded data removed]",
      "text/plain": [
       "<Figure size 432x288 with 1 Axes>"
      ]
     },
     "metadata": {},
     "output_type": "display_data"
    },
    {
     "data": {
      "image/png": "[encoded data removed]",
      "text/plain": [
       "<Figure size 432x288 with 1 Axes>"
      ]
     },
     "metadata": {},
     "output_type": "display_data"
    },
    {
     "data": {
      "image/png": "[encoded data removed]",
      "text/plain": [
       "<Figure size 432x288 with 1 Axes>"
      ]
     },
     "metadata": {},
     "output_type": "display_data"
    },
    {
     "data": {
      "image/png": "[encoded data removed]",
      "text/plain": [
       "<Figure size 432x288 with 1 Axes>"
      ]
     },
     "metadata": {},
     "output_type": "display_data"
    },
    {
     "data": {
      "image/png": "[encoded data removed]",
      "text/plain": [
       "<Figure size 432x288 with 1 Axes>"
      ]
     },
     "metadata": {},
     "output_type": "display_data"
    },
    {
     "data": {
      "image/png": "[encoded data removed]",
      "text/plain": [
       "<Figure size 432x288 with 1 Axes>"
      ]
     },
     "metadata": {},
     "output_type": "display_data"
    },
    {
     "data": {
      "image/png": "[encoded data removed]",
      "text/plain": [
       "<Figure size 432x288 with 1 Axes>"
      ]
     },
     "metadata": {},
     "output_type": "display_data"
    },
    {
     "data": {
      "image/png": "[encoded data removed]",
      "text/plain": [
       "<Figure size 432x288 with 1 Axes>"
      ]
     },
     "metadata": {},
     "output_type": "display_data"
    },
    {
     "data": {
      "image/png": "[encoded data removed]",
      "text/plain": [
       "<Figure size 432x288 with 1 Axes>"
      ]
     },
     "metadata": {},
     "output_type": "display_data"
    },
    {
     "data": {
      "image/png": "[encoded data removed]",
      "text/plain": [
       "<Figure size 432x288 with 1 Axes>"
      ]
     },
     "metadata": {},
     "output_type": "display_data"
    }
   ],
   "source": [
    "for i in range(10):\n",
    "    plt.imshow(predist[i].reshape(28,28), cmap = \"gray\")\n",
    "    plt.title('predist = '+ str(i))\n",
    "    plt.show()"
   ]
  },
  {
   "cell_type": "code",
   "execution_count": 17,
   "metadata": {},
   "outputs": [
    {
     "data": {
      "text/html": [
       "<div>\n",
       "<style scoped>\n",
       "    .dataframe tbody tr th:only-of-type {\n",
       "        vertical-align: middle;\n",
       "    }\n",
       "\n",
       "    .dataframe tbody tr th {\n",
       "        vertical-align: top;\n",
       "    }\n",
       "\n",
       "    .dataframe thead th {\n",
       "        text-align: right;\n",
       "    }\n",
       "</style>\n",
       "<table border=\"1\" class=\"dataframe\">\n",
       "  <thead>\n",
       "    <tr style=\"text-align: right;\">\n",
       "      <th></th>\n",
       "      <th>pixel0</th>\n",
       "      <th>pixel1</th>\n",
       "      <th>pixel2</th>\n",
       "      <th>pixel3</th>\n",
       "      <th>pixel4</th>\n",
       "      <th>pixel5</th>\n",
       "      <th>pixel6</th>\n",
       "      <th>pixel7</th>\n",
       "      <th>pixel8</th>\n",
       "      <th>pixel9</th>\n",
       "      <th>...</th>\n",
       "      <th>pixel774</th>\n",
       "      <th>pixel775</th>\n",
       "      <th>pixel776</th>\n",
       "      <th>pixel777</th>\n",
       "      <th>pixel778</th>\n",
       "      <th>pixel779</th>\n",
       "      <th>pixel780</th>\n",
       "      <th>pixel781</th>\n",
       "      <th>pixel782</th>\n",
       "      <th>pixel783</th>\n",
       "    </tr>\n",
       "  </thead>\n",
       "  <tbody>\n",
       "    <tr>\n",
       "      <th>0</th>\n",
       "      <td>0.0</td>\n",
       "      <td>0.0</td>\n",
       "      <td>0.0</td>\n",
       "      <td>0.0</td>\n",
       "      <td>0.0</td>\n",
       "      <td>0.0</td>\n",
       "      <td>0.0</td>\n",
       "      <td>0.0</td>\n",
       "      <td>0.0</td>\n",
       "      <td>0.0</td>\n",
       "      <td>...</td>\n",
       "      <td>0.0</td>\n",
       "      <td>0.0</td>\n",
       "      <td>0.0</td>\n",
       "      <td>0.0</td>\n",
       "      <td>0.0</td>\n",
       "      <td>0.0</td>\n",
       "      <td>0.0</td>\n",
       "      <td>0.0</td>\n",
       "      <td>0.0</td>\n",
       "      <td>0.0</td>\n",
       "    </tr>\n",
       "    <tr>\n",
       "      <th>1</th>\n",
       "      <td>0.0</td>\n",
       "      <td>0.0</td>\n",
       "      <td>0.0</td>\n",
       "      <td>0.0</td>\n",
       "      <td>0.0</td>\n",
       "      <td>0.0</td>\n",
       "      <td>0.0</td>\n",
       "      <td>0.0</td>\n",
       "      <td>0.0</td>\n",
       "      <td>0.0</td>\n",
       "      <td>...</td>\n",
       "      <td>0.0</td>\n",
       "      <td>0.0</td>\n",
       "      <td>0.0</td>\n",
       "      <td>0.0</td>\n",
       "      <td>0.0</td>\n",
       "      <td>0.0</td>\n",
       "      <td>0.0</td>\n",
       "      <td>0.0</td>\n",
       "      <td>0.0</td>\n",
       "      <td>0.0</td>\n",
       "    </tr>\n",
       "    <tr>\n",
       "      <th>2</th>\n",
       "      <td>0.0</td>\n",
       "      <td>0.0</td>\n",
       "      <td>0.0</td>\n",
       "      <td>0.0</td>\n",
       "      <td>0.0</td>\n",
       "      <td>0.0</td>\n",
       "      <td>0.0</td>\n",
       "      <td>0.0</td>\n",
       "      <td>0.0</td>\n",
       "      <td>0.0</td>\n",
       "      <td>...</td>\n",
       "      <td>0.0</td>\n",
       "      <td>0.0</td>\n",
       "      <td>0.0</td>\n",
       "      <td>0.0</td>\n",
       "      <td>0.0</td>\n",
       "      <td>0.0</td>\n",
       "      <td>0.0</td>\n",
       "      <td>0.0</td>\n",
       "      <td>0.0</td>\n",
       "      <td>0.0</td>\n",
       "    </tr>\n",
       "    <tr>\n",
       "      <th>3</th>\n",
       "      <td>0.0</td>\n",
       "      <td>0.0</td>\n",
       "      <td>0.0</td>\n",
       "      <td>0.0</td>\n",
       "      <td>0.0</td>\n",
       "      <td>0.0</td>\n",
       "      <td>0.0</td>\n",
       "      <td>0.0</td>\n",
       "      <td>0.0</td>\n",
       "      <td>0.0</td>\n",
       "      <td>...</td>\n",
       "      <td>0.0</td>\n",
       "      <td>0.0</td>\n",
       "      <td>0.0</td>\n",
       "      <td>0.0</td>\n",
       "      <td>0.0</td>\n",
       "      <td>0.0</td>\n",
       "      <td>0.0</td>\n",
       "      <td>0.0</td>\n",
       "      <td>0.0</td>\n",
       "      <td>0.0</td>\n",
       "    </tr>\n",
       "    <tr>\n",
       "      <th>4</th>\n",
       "      <td>0.0</td>\n",
       "      <td>0.0</td>\n",
       "      <td>0.0</td>\n",
       "      <td>0.0</td>\n",
       "      <td>0.0</td>\n",
       "      <td>0.0</td>\n",
       "      <td>0.0</td>\n",
       "      <td>0.0</td>\n",
       "      <td>0.0</td>\n",
       "      <td>0.0</td>\n",
       "      <td>...</td>\n",
       "      <td>0.0</td>\n",
       "      <td>0.0</td>\n",
       "      <td>0.0</td>\n",
       "      <td>0.0</td>\n",
       "      <td>0.0</td>\n",
       "      <td>0.0</td>\n",
       "      <td>0.0</td>\n",
       "      <td>0.0</td>\n",
       "      <td>0.0</td>\n",
       "      <td>0.0</td>\n",
       "    </tr>\n",
       "  </tbody>\n",
       "</table>\n",
       "<p>5 rows × 784 columns</p>\n",
       "</div>"
      ],
      "text/plain": [
       "   pixel0  pixel1  pixel2  pixel3  pixel4  pixel5  pixel6  pixel7  pixel8  \\\n",
       "0     0.0     0.0     0.0     0.0     0.0     0.0     0.0     0.0     0.0   \n",
       "1     0.0     0.0     0.0     0.0     0.0     0.0     0.0     0.0     0.0   \n",
       "2     0.0     0.0     0.0     0.0     0.0     0.0     0.0     0.0     0.0   \n",
       "3     0.0     0.0     0.0     0.0     0.0     0.0     0.0     0.0     0.0   \n",
       "4     0.0     0.0     0.0     0.0     0.0     0.0     0.0     0.0     0.0   \n",
       "\n",
       "   pixel9    ...     pixel774  pixel775  pixel776  pixel777  pixel778  \\\n",
       "0     0.0    ...          0.0       0.0       0.0       0.0       0.0   \n",
       "1     0.0    ...          0.0       0.0       0.0       0.0       0.0   \n",
       "2     0.0    ...          0.0       0.0       0.0       0.0       0.0   \n",
       "3     0.0    ...          0.0       0.0       0.0       0.0       0.0   \n",
       "4     0.0    ...          0.0       0.0       0.0       0.0       0.0   \n",
       "\n",
       "   pixel779  pixel780  pixel781  pixel782  pixel783  \n",
       "0       0.0       0.0       0.0       0.0       0.0  \n",
       "1       0.0       0.0       0.0       0.0       0.0  \n",
       "2       0.0       0.0       0.0       0.0       0.0  \n",
       "3       0.0       0.0       0.0       0.0       0.0  \n",
       "4       0.0       0.0       0.0       0.0       0.0  \n",
       "\n",
       "[5 rows x 784 columns]"
      ]
     },
     "execution_count": 17,
     "metadata": {},
     "output_type": "execute_result"
    }
   ],
   "source": [
    "test.head()"
   ]
  },
  {
   "cell_type": "code",
   "execution_count": 18,
   "metadata": {},
   "outputs": [
    {
     "data": {
      "image/png": "[encoded data removed]",
      "text/plain": [
       "<Figure size 432x288 with 1 Axes>"
      ]
     },
     "metadata": {},
     "output_type": "display_data"
    }
   ],
   "source": [
    "plt.imshow(np.array(test.iloc[0]).reshape(28,28), cmap = \"gray\")\n",
    "plt.show()"
   ]
  },
  {
   "cell_type": "code",
   "execution_count": 19,
   "metadata": {},
   "outputs": [
    {
     "data": {
      "text/plain": [
       "array([[0., 0., 0., ..., 0., 0., 0.],\n",
       "       [0., 0., 0., ..., 0., 0., 0.],\n",
       "       [0., 0., 0., ..., 0., 0., 0.],\n",
       "       ...,\n",
       "       [0., 0., 0., ..., 0., 0., 0.],\n",
       "       [0., 0., 0., ..., 0., 0., 0.],\n",
       "       [0., 0., 0., ..., 0., 0., 0.]])"
      ]
     },
     "execution_count": 19,
     "metadata": {},
     "output_type": "execute_result"
    }
   ],
   "source": [
    "test= test.values\n",
    "test"
   ]
  },
  {
   "cell_type": "code",
   "execution_count": 49,
   "metadata": {},
   "outputs": [
    {
     "data": {
      "image/png": "[encoded data removed]",
      "text/plain": [
       "<Figure size 432x288 with 1 Axes>"
      ]
     },
     "metadata": {},
     "output_type": "display_data"
    },
    {
     "data": {
      "image/png": "[encoded data removed]",
      "text/plain": [
       "<Figure size 432x288 with 1 Axes>"
      ]
     },
     "metadata": {},
     "output_type": "display_data"
    }
   ],
   "source": [
    "plt.imshow(test[55].reshape(28,28), cmap = \"gray\")\n",
    "plt.show()\n",
    "plt.imshow(predist[2].reshape(28,28), cmap = \"gray\")\n",
    "plt.show()"
   ]
  }
 ],
 "metadata": {
  "kernelspec": {
   "display_name": "Python 3",
   "language": "python",
   "name": "python3"
  },
  "language_info": {
   "codemirror_mode": {
    "name": "ipython",
    "version": 3
   },
   "file_extension": ".py",
   "mimetype": "text/x-python",
   "name": "python",
   "nbconvert_exporter": "python",
   "pygments_lexer": "ipython3",
   "version": "3.6.5"
  }
 },
 "nbformat": 4,
 "nbformat_minor": 2
}
